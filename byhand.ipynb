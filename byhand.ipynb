{
 "cells": [
  {
   "cell_type": "markdown",
   "id": "fd37eddb",
   "metadata": {},
   "source": [
    "# Byhand"
   ]
  },
  {
   "cell_type": "markdown",
   "id": "eeb58d5b",
   "metadata": {},
   "source": [
    "## Linear regression\n"
   ]
  },
  {
   "cell_type": "markdown",
   "id": "ac1e6fc1",
   "metadata": {},
   "source": [
    "def mse()"
   ]
  },
  {
   "cell_type": "markdown",
   "id": "b5b51c66",
   "metadata": {},
   "source": [
    "def mae()"
   ]
  },
  {
   "cell_type": "markdown",
   "id": "04cb8f9a",
   "metadata": {},
   "source": [
    "def initialize_weights()"
   ]
  },
  {
   "cell_type": "markdown",
   "id": "55ee7448",
   "metadata": {},
   "source": [
    "def grad_calc()"
   ]
  },
  {
   "cell_type": "markdown",
   "id": "18bca290",
   "metadata": {},
   "source": [
    "def update_weights()"
   ]
  },
  {
   "cell_type": "markdown",
   "id": "dd0e024c",
   "metadata": {},
   "source": [
    "def fit()"
   ]
  },
  {
   "cell_type": "markdown",
   "id": "ec9930bd",
   "metadata": {},
   "source": [
    "def predict()"
   ]
  },
  {
   "cell_type": "markdown",
   "id": "18130ec9",
   "metadata": {},
   "source": [
    "def get_params()"
   ]
  },
  {
   "cell_type": "code",
   "execution_count": 1,
   "id": "3d904b08",
   "metadata": {},
   "outputs": [],
   "source": [
    "import numpy as np"
   ]
  },
  {
   "cell_type": "code",
   "execution_count": 15,
   "id": "00e323ce",
   "metadata": {},
   "outputs": [
    {
     "ename": "IndentationError",
     "evalue": "expected an indented block after function definition on line 16 (797327818.py, line 18)",
     "output_type": "error",
     "traceback": [
      "\u001b[0;36m  Cell \u001b[0;32mIn[15], line 18\u001b[0;36m\u001b[0m\n\u001b[0;31m    @staticmethod\u001b[0m\n\u001b[0m    ^\u001b[0m\n\u001b[0;31mIndentationError\u001b[0m\u001b[0;31m:\u001b[0m expected an indented block after function definition on line 16\n"
     ]
    }
   ],
   "source": [
    "class LinearRegression():\n",
    "    \n",
    "    @staticmethod\n",
    "    def mse(preds, y):\n",
    "        return np.mean((preds - y)**2)\n",
    "    \n",
    "    @staticmethod\n",
    "    def mae(preds,y):\n",
    "        return np.mean(abs(preds-y))\n",
    "    \n",
    "    @staticmethod\n",
    "    def initialize_weights(n):\n",
    "        return np.random.uniform(0,0.1,size = n)\n",
    "    \n",
    "    @staticmethod\n",
    "    def maegrad(n):\n",
    "        \n",
    "    @staticmethod\n",
    "    def msegrad(n):\n",
    "        \n",
    "    "
   ]
  },
  {
   "cell_type": "code",
   "execution_count": 11,
   "id": "3ccdf523",
   "metadata": {},
   "outputs": [],
   "source": [
    "a = np.array([1,2,3,4])\n",
    "b = np.array([2,1,4,3])"
   ]
  },
  {
   "cell_type": "code",
   "execution_count": 7,
   "id": "09453c85",
   "metadata": {},
   "outputs": [
    {
     "data": {
      "text/plain": [
       "np.float64(1.0)"
      ]
     },
     "execution_count": 7,
     "metadata": {},
     "output_type": "execute_result"
    }
   ],
   "source": [
    "LinearRegression.mse(a,b)"
   ]
  },
  {
   "cell_type": "code",
   "execution_count": 12,
   "id": "af74dc45",
   "metadata": {},
   "outputs": [
    {
     "data": {
      "text/plain": [
       "np.float64(1.0)"
      ]
     },
     "execution_count": 12,
     "metadata": {},
     "output_type": "execute_result"
    }
   ],
   "source": [
    "LinearRegression.mae(a,b)"
   ]
  },
  {
   "cell_type": "code",
   "execution_count": 14,
   "id": "a0ce7e34",
   "metadata": {},
   "outputs": [
    {
     "data": {
      "text/plain": [
       "array([0.08344648, 0.01966971, 0.07482161, 0.04795041, 0.07529449,\n",
       "       0.08910877, 0.05001418, 0.07290863, 0.09012071, 0.07978176])"
      ]
     },
     "execution_count": 14,
     "metadata": {},
     "output_type": "execute_result"
    }
   ],
   "source": [
    "LinearRegression.initialize_weights(10)"
   ]
  }
 ],
 "metadata": {
  "kernelspec": {
   "display_name": "Python [conda env:numpymini]",
   "language": "python",
   "name": "conda-env-numpymini-py"
  },
  "language_info": {
   "codemirror_mode": {
    "name": "ipython",
    "version": 3
   },
   "file_extension": ".py",
   "mimetype": "text/x-python",
   "name": "python",
   "nbconvert_exporter": "python",
   "pygments_lexer": "ipython3",
   "version": "3.12.7"
  }
 },
 "nbformat": 4,
 "nbformat_minor": 5
}
