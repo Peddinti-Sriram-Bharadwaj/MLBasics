{
 "cells": [
  {
   "cell_type": "markdown",
   "id": "80c18325",
   "metadata": {},
   "source": [
    "# Basic end to end"
   ]
  },
  {
   "cell_type": "markdown",
   "id": "613f3ebd",
   "metadata": {},
   "source": [
    "- Look at the big picture\n",
    "- Get the data\n",
    "- Explore and visualize the data to gain insights\n",
    "- Prepare the data for machine learning algorithms\n",
    "- Select a model and train it. \n",
    "- Fine-tune the model\n",
    "- Present your solution\n",
    "- Launch, monitor and maintain your system"
   ]
  },
  {
   "cell_type": "markdown",
   "id": "65e79da7",
   "metadata": {},
   "source": [
    "## Task\n",
    "model the california housing dataest, and predict the median housing price in any district given all the other metrics.\n",
    "\n",
    "The task at hand is a multiple regression, univariate. \n",
    "since there is not continuous flow of data coming into the system, there is not particular need to adjust to changing data rapidly. and data is small enough to fit in memory. "
   ]
  },
  {
   "cell_type": "markdown",
   "id": "2d83fceb",
   "metadata": {},
   "source": [
    "### pipeline\n",
    "\n",
    "A sequence of data processing componetns is called a data pipeline. \n",
    "piepelines are vary common in ML systems\n",
    "\n",
    "components typically run asynchronously. Each component pulls in a large amount of data, processes it, and spits out the result in another data store. \n",
    "\n",
    "each component is fairly self-contained. the interface is only the data store. no other information is passed, so seperation of concerns is well-maintained. \n",
    "\n",
    "This seperation of concerns makes the system simpel to grasp. Different teams can focus on different components, and if a component breaks down the downstream components can continue to run normally for a while\n",
    "\n",
    "Thus, pipelines are quite robust. \n",
    "\n",
    "However, if a borken component goes down, the component can go unnoticed for some time if proper monitoring is not implemented. teh data goes stale and the performance drops. \n"
   ]
  },
  {
   "cell_type": "markdown",
   "id": "1c09694d",
   "metadata": {},
   "source": [
    "### selecting a performance measure"
   ]
  },
  {
   "cell_type": "markdown",
   "id": "18511d8b",
   "metadata": {},
   "source": [
    "RMSE is generally used as a performance measure for regression tasks. \n",
    "in some contexts, where there many outliers, mean absolute error is more helpful. \n",
    "\n",
    "rmse corresponds to euclidean norm\n",
    "mae corresponds to l1 norm (manhattan norm)\n",
    "\n",
    "the higher the norm index, the more it focuses on large values, and neglects small values. Thus, rmse is more sensitive to outlisers than the mae. but when outliers are rare, the rmse performs very well. \n"
   ]
  }
 ],
 "metadata": {
  "kernelspec": {
   "display_name": "Python [conda env:ml] *",
   "language": "python",
   "name": "conda-env-ml-py"
  },
  "language_info": {
   "codemirror_mode": {
    "name": "ipython",
    "version": 3
   },
   "file_extension": ".py",
   "mimetype": "text/x-python",
   "name": "python",
   "nbconvert_exporter": "python",
   "pygments_lexer": "ipython3",
   "version": "3.12.7"
  }
 },
 "nbformat": 4,
 "nbformat_minor": 5
}
